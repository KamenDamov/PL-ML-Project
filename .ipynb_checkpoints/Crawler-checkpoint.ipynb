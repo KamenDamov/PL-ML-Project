{
 "cells": [
  {
   "cell_type": "code",
   "execution_count": 1,
   "metadata": {},
   "outputs": [],
   "source": [
    "import os"
   ]
  },
  {
   "cell_type": "code",
   "execution_count": 2,
   "metadata": {},
   "outputs": [
    {
     "name": "stdout",
     "output_type": "stream",
     "text": [
      "Creating project: \n"
     ]
    }
   ],
   "source": [
    "def create_project_directory(direct):\n",
    "    if not os.path.exists(direct):\n",
    "        print('Creating project: ')\n",
    "        os.makedirs(direct)\n",
    "\n",
    "create_project_directory('Test')"
   ]
  },
  {
   "cell_type": "code",
   "execution_count": null,
   "metadata": {},
   "outputs": [],
   "source": [
    "#Create queue and crawled files\n",
    "def create_data_files(project_name, base_url):\n",
    "    queue = project_name + '/queue.txt'\n",
    "    crawled = project_name + '/crawled.txt'\n",
    "    if not os.path.isfile(queue):\n",
    "        write_file(queue, base_url)\n",
    "    if not os.path.isfile(crawled):\n",
    "        write_file(crawled, '')\n",
    "\n",
    "#Create a new file\n",
    "def write_file(path, data):\n",
    "    f = open(path, 'w')\n",
    "    f.write(data)\n",
    "    f.close()\n",
    "    \n",
    "#Add data to an existing file\n",
    "def append_to_file(path, data): \n",
    "    with open(path, 'a') as file:\n",
    "        file.write(data + '\\n')\n",
    "create_data_files('test', 'https://www.premierleague.com/stats/top/players/goals?se=418')\n",
    "\n",
    "#Delete a file\n",
    "def delete_file_content():\n",
    "    with open(path, 'w'):\n",
    "        pass   \n",
    "\n",
    "#TODO\n",
    "# 1)Create tab with all the ids in se=...\n",
    "# 2) Crawl these links"
   ]
  }
 ],
 "metadata": {
  "kernelspec": {
   "display_name": "Python 3",
   "language": "python",
   "name": "python3"
  },
  "language_info": {
   "codemirror_mode": {
    "name": "ipython",
    "version": 3
   },
   "file_extension": ".py",
   "mimetype": "text/x-python",
   "name": "python",
   "nbconvert_exporter": "python",
   "pygments_lexer": "ipython3",
   "version": "3.8.3"
  }
 },
 "nbformat": 4,
 "nbformat_minor": 4
}
