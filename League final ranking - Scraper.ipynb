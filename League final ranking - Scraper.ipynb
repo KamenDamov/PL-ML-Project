{
 "cells": [
  {
   "cell_type": "code",
   "execution_count": 1,
   "metadata": {},
   "outputs": [],
   "source": [
    "import requests\n",
    "from bs4 import BeautifulSoup as bs \n",
    "import pandas as pd \n",
    "import numpy as np"
   ]
  },
  {
   "cell_type": "code",
   "execution_count": 112,
   "metadata": {},
   "outputs": [],
   "source": [
    "#get the data from tables on the page\n",
    "yrs = []\n",
    "for i in range(2010,2021): \n",
    "    yrs.append(i)\n",
    "donnee = []\n",
    "for i in yrs: \n",
    "    url = 'https://www.skysports.com/premier-league-table/'+str(i)\n",
    "    page = requests.get(url)\n",
    "    data = page.content\n",
    "    soup = bs(data, 'html.parser')\n",
    "    for element in soup.select('table'):\n",
    "        donnee.append(element.text.strip())"
   ]
  },
  {
   "cell_type": "code",
   "execution_count": 114,
   "metadata": {},
   "outputs": [
    {
     "data": {
      "text/plain": [
       "['Barclays Premier League 2010/11  \\n\\n\\n\\n\\n\\n\\n\\n\\n\\n\\n\\n\\n\\n\\n\\n#\\nTeam\\nPl\\nW\\nD\\nL\\nF\\nA\\nGD\\nPts\\nLast 6\\n\\n\\n\\n\\n1\\n\\nManchester United\\n\\n38\\n23\\n11\\n4\\n78\\n37\\n41\\n80\\n\\n\\n\\n\\n2\\n\\nChelsea\\n\\n38\\n21\\n8\\n9\\n69\\n33\\n36\\n71\\n\\n\\n\\n\\n3\\n\\nManchester City\\n\\n38\\n21\\n8\\n9\\n60\\n33\\n27\\n71\\n\\n\\n\\n\\n4\\n\\nArsenal\\n\\n38\\n19\\n11\\n8\\n72\\n43\\n29\\n68\\n\\n\\n\\n\\n5\\n\\nTottenham Hotspur\\n\\n38\\n16\\n14\\n8\\n55\\n46\\n9\\n62\\n\\n\\n\\n\\n6\\n\\nLiverpool\\n\\n38\\n17\\n7\\n14\\n59\\n44\\n15\\n58\\n\\n\\n\\n\\n7\\n\\nEverton\\n\\n38\\n13\\n15\\n10\\n51\\n45\\n6\\n54\\n\\n\\n\\n\\n8\\n\\nFulham\\n\\n38\\n11\\n16\\n11\\n49\\n43\\n6\\n49\\n\\n\\n\\n\\n9\\n\\nAston Villa\\n\\n38\\n12\\n12\\n14\\n48\\n59\\n-11\\n48\\n\\n\\n\\n\\n10\\n\\nSunderland\\n\\n38\\n12\\n11\\n15\\n45\\n56\\n-11\\n47\\n\\n\\n\\n\\n11\\n\\nWest Bromwich Albion\\n\\n38\\n12\\n11\\n15\\n56\\n71\\n-15\\n47\\n\\n\\n\\n\\n12\\n\\nNewcastle United\\n\\n38\\n11\\n13\\n14\\n56\\n57\\n-1\\n46\\n\\n\\n\\n\\n13\\n\\nStoke City\\n\\n38\\n13\\n7\\n18\\n46\\n48\\n-2\\n46\\n\\n\\n\\n\\n14\\n\\nBolton Wanderers\\n\\n38\\n12\\n10\\n16\\n52\\n56\\n-4\\n46\\n\\n\\n\\n\\n15\\n\\nBlackburn Rovers\\n\\n38\\n11\\n10\\n17\\n46\\n59\\n-13\\n43\\n\\n\\n\\n\\n16\\n\\nWigan Athletic\\n\\n38\\n9\\n15\\n14\\n40\\n61\\n-21\\n42\\n\\n\\n\\n\\n17\\n\\nWolverhampton Wanderers\\n\\n38\\n11\\n7\\n20\\n46\\n66\\n-20\\n40\\n\\n\\n\\n\\n18\\n\\nBirmingham City\\n\\n38\\n8\\n15\\n15\\n37\\n58\\n-21\\n39\\n\\n\\n\\n\\n19\\n\\nBlackpool\\n\\n38\\n10\\n9\\n19\\n55\\n78\\n-23\\n39\\n\\n\\n\\n\\n20\\n\\nWest Ham United\\n\\n38\\n7\\n12\\n19\\n43\\n70\\n-27\\n33',\n",
       " 'Barclays Premier League 2011/12  \\n\\n\\n\\n\\n\\n\\n\\n\\n\\n\\n\\n\\n\\n\\n\\n#\\nTeam\\nPl\\nW\\nD\\nL\\nF\\nA\\nGD\\nPts\\nLast 6\\n\\n\\n\\n\\n1\\n\\nManchester City\\n\\n38\\n28\\n5\\n5\\n93\\n29\\n64\\n89\\n\\n\\n\\n\\n2\\n\\nManchester United\\n\\n38\\n28\\n5\\n5\\n89\\n33\\n56\\n89\\n\\n\\n\\n\\n3\\n\\nArsenal\\n\\n38\\n21\\n7\\n10\\n74\\n49\\n25\\n70\\n\\n\\n\\n\\n4\\n\\nTottenham Hotspur\\n\\n38\\n20\\n9\\n9\\n66\\n41\\n25\\n69\\n\\n\\n\\n\\n5\\n\\nNewcastle United\\n\\n38\\n19\\n8\\n11\\n56\\n51\\n5\\n65\\n\\n\\n\\n\\n6\\n\\nChelsea\\n\\n38\\n18\\n10\\n10\\n65\\n46\\n19\\n64\\n\\n\\n\\n\\n7\\n\\nEverton\\n\\n38\\n15\\n11\\n12\\n50\\n40\\n10\\n56\\n\\n\\n\\n\\n8\\n\\nLiverpool\\n\\n38\\n14\\n10\\n14\\n47\\n40\\n7\\n52\\n\\n\\n\\n\\n9\\n\\nFulham\\n\\n38\\n14\\n10\\n14\\n48\\n51\\n-3\\n52\\n\\n\\n\\n\\n10\\n\\nWest Bromwich Albion\\n\\n38\\n13\\n8\\n17\\n45\\n52\\n-7\\n47\\n\\n\\n\\n\\n11\\n\\nSwansea City\\n\\n38\\n12\\n11\\n15\\n44\\n51\\n-7\\n47\\n\\n\\n\\n\\n12\\n\\nNorwich City\\n\\n38\\n12\\n11\\n15\\n52\\n66\\n-14\\n47\\n\\n\\n\\n\\n13\\n\\nSunderland\\n\\n38\\n11\\n12\\n15\\n45\\n46\\n-1\\n45\\n\\n\\n\\n\\n14\\n\\nStoke City\\n\\n38\\n11\\n12\\n15\\n36\\n53\\n-17\\n45\\n\\n\\n\\n\\n15\\n\\nWigan Athletic\\n\\n38\\n11\\n10\\n17\\n42\\n62\\n-20\\n43\\n\\n\\n\\n\\n16\\n\\nAston Villa\\n\\n38\\n7\\n17\\n14\\n37\\n53\\n-16\\n38\\n\\n\\n\\n\\n17\\n\\nQueens Park Rangers\\n\\n38\\n10\\n7\\n21\\n43\\n66\\n-23\\n37\\n\\n\\n\\n\\n18\\n\\nBolton Wanderers\\n\\n38\\n10\\n6\\n22\\n46\\n77\\n-31\\n36\\n\\n\\n\\n\\n19\\n\\nBlackburn Rovers\\n\\n38\\n8\\n7\\n23\\n48\\n78\\n-30\\n31\\n\\n\\n\\n\\n20\\n\\nWolverhampton Wanderers\\n\\n38\\n5\\n10\\n23\\n40\\n82\\n-42\\n25',\n",
       " 'Barclays Premier League 2012/13  \\n\\n\\n\\n\\n\\n\\n\\n\\n\\n\\n\\n\\n\\n\\n\\n#\\nTeam\\nPl\\nW\\nD\\nL\\nF\\nA\\nGD\\nPts\\nLast 6\\n\\n\\n\\n\\n1\\n\\nManchester United\\n\\n38\\n28\\n5\\n5\\n86\\n43\\n43\\n89\\n\\n\\n\\n\\n2\\n\\nManchester City\\n\\n38\\n23\\n9\\n6\\n66\\n34\\n32\\n78\\n\\n\\n\\n\\n3\\n\\nChelsea\\n\\n38\\n22\\n9\\n7\\n75\\n39\\n36\\n75\\n\\n\\n\\n\\n4\\n\\nArsenal\\n\\n38\\n21\\n10\\n7\\n72\\n37\\n35\\n73\\n\\n\\n\\n\\n5\\n\\nTottenham Hotspur\\n\\n38\\n21\\n9\\n8\\n66\\n46\\n20\\n72\\n\\n\\n\\n\\n6\\n\\nEverton\\n\\n38\\n16\\n15\\n7\\n55\\n40\\n15\\n63\\n\\n\\n\\n\\n7\\n\\nLiverpool\\n\\n38\\n16\\n13\\n9\\n71\\n43\\n28\\n61\\n\\n\\n\\n\\n8\\n\\nWest Bromwich Albion\\n\\n38\\n14\\n7\\n17\\n53\\n57\\n-4\\n49\\n\\n\\n\\n\\n9\\n\\nSwansea City\\n\\n38\\n11\\n13\\n14\\n47\\n51\\n-4\\n46\\n\\n\\n\\n\\n10\\n\\nWest Ham United\\n\\n38\\n12\\n10\\n16\\n45\\n53\\n-8\\n46\\n\\n\\n\\n\\n11\\n\\nNorwich City\\n\\n38\\n10\\n14\\n14\\n41\\n58\\n-17\\n44\\n\\n\\n\\n\\n12\\n\\nFulham\\n\\n38\\n11\\n10\\n17\\n50\\n60\\n-10\\n43\\n\\n\\n\\n\\n13\\n\\nStoke City\\n\\n38\\n9\\n15\\n14\\n34\\n45\\n-11\\n42\\n\\n\\n\\n\\n14\\n\\nSouthampton\\n\\n38\\n9\\n14\\n15\\n49\\n60\\n-11\\n41\\n\\n\\n\\n\\n15\\n\\nAston Villa\\n\\n38\\n10\\n11\\n17\\n47\\n69\\n-22\\n41\\n\\n\\n\\n\\n16\\n\\nNewcastle United\\n\\n38\\n11\\n8\\n19\\n45\\n68\\n-23\\n41\\n\\n\\n\\n\\n17\\n\\nSunderland\\n\\n38\\n9\\n12\\n17\\n41\\n54\\n-13\\n39\\n\\n\\n\\n\\n18\\n\\nWigan Athletic\\n\\n38\\n9\\n9\\n20\\n47\\n73\\n-26\\n36\\n\\n\\n\\n\\n19\\n\\nReading\\n\\n38\\n6\\n10\\n22\\n43\\n73\\n-30\\n28\\n\\n\\n\\n\\n20\\n\\nQueens Park Rangers\\n\\n38\\n4\\n13\\n21\\n30\\n60\\n-30\\n25',\n",
       " 'Barclays Premier League 2013/14  \\n\\n\\n\\n\\n\\n\\n\\n\\n\\n\\n\\n\\n\\n\\n\\n#\\nTeam\\nPl\\nW\\nD\\nL\\nF\\nA\\nGD\\nPts\\nLast 6\\n\\n\\n\\n\\n1\\n\\nManchester City\\n\\n38\\n27\\n5\\n6\\n102\\n37\\n65\\n86\\n\\n\\n\\n\\n2\\n\\nLiverpool\\n\\n38\\n26\\n6\\n6\\n101\\n50\\n51\\n84\\n\\n\\n\\n\\n3\\n\\nChelsea\\n\\n38\\n25\\n7\\n6\\n71\\n27\\n44\\n82\\n\\n\\n\\n\\n4\\n\\nArsenal\\n\\n38\\n24\\n7\\n7\\n68\\n41\\n27\\n79\\n\\n\\n\\n\\n5\\n\\nEverton\\n\\n38\\n21\\n9\\n8\\n61\\n39\\n22\\n72\\n\\n\\n\\n\\n6\\n\\nTottenham Hotspur\\n\\n38\\n21\\n6\\n11\\n55\\n51\\n4\\n69\\n\\n\\n\\n\\n7\\n\\nManchester United\\n\\n38\\n19\\n7\\n12\\n64\\n43\\n21\\n64\\n\\n\\n\\n\\n8\\n\\nSouthampton\\n\\n38\\n15\\n11\\n12\\n54\\n46\\n8\\n56\\n\\n\\n\\n\\n9\\n\\nStoke City\\n\\n38\\n13\\n11\\n14\\n45\\n52\\n-7\\n50\\n\\n\\n\\n\\n10\\n\\nNewcastle United\\n\\n38\\n15\\n4\\n19\\n43\\n59\\n-16\\n49\\n\\n\\n\\n\\n11\\n\\nCrystal Palace\\n\\n38\\n13\\n6\\n19\\n33\\n48\\n-15\\n45\\n\\n\\n\\n\\n12\\n\\nSwansea City\\n\\n38\\n11\\n9\\n18\\n54\\n54\\n0\\n42\\n\\n\\n\\n\\n13\\n\\nWest Ham United\\n\\n38\\n11\\n7\\n20\\n40\\n51\\n-11\\n40\\n\\n\\n\\n\\n14\\n\\nSunderland\\n\\n38\\n10\\n8\\n20\\n41\\n60\\n-19\\n38\\n\\n\\n\\n\\n15\\n\\nAston Villa\\n\\n38\\n10\\n8\\n20\\n39\\n61\\n-22\\n38\\n\\n\\n\\n\\n16\\n\\nHull City\\n\\n38\\n10\\n7\\n21\\n38\\n53\\n-15\\n37\\n\\n\\n\\n\\n17\\n\\nWest Bromwich Albion\\n\\n38\\n7\\n15\\n16\\n43\\n59\\n-16\\n36\\n\\n\\n\\n\\n18\\n\\nNorwich City\\n\\n38\\n8\\n9\\n21\\n28\\n62\\n-34\\n33\\n\\n\\n\\n\\n19\\n\\nFulham\\n\\n38\\n9\\n5\\n24\\n40\\n85\\n-45\\n32\\n\\n\\n\\n\\n20\\n\\nCardiff City\\n\\n38\\n7\\n9\\n22\\n32\\n74\\n-42\\n30',\n",
       " 'Barclays Premier League 2014/15  \\n\\n\\n\\n\\n\\n\\n\\n\\n\\n\\n\\n\\n\\n\\n\\n#\\nTeam\\nPl\\nW\\nD\\nL\\nF\\nA\\nGD\\nPts\\nLast 6\\n\\n\\n\\n\\n1\\n\\nChelsea\\n\\n38\\n26\\n9\\n3\\n73\\n32\\n41\\n87\\n\\n\\n\\n\\n2\\n\\nManchester City\\n\\n38\\n24\\n7\\n7\\n83\\n38\\n45\\n79\\n\\n\\n\\n\\n3\\n\\nArsenal\\n\\n38\\n22\\n9\\n7\\n71\\n36\\n35\\n75\\n\\n\\n\\n\\n4\\n\\nManchester United\\n\\n38\\n20\\n10\\n8\\n62\\n37\\n25\\n70\\n\\n\\n\\n\\n5\\n\\nTottenham Hotspur\\n\\n38\\n19\\n7\\n12\\n58\\n53\\n5\\n64\\n\\n\\n\\n\\n6\\n\\nLiverpool\\n\\n38\\n18\\n8\\n12\\n52\\n48\\n4\\n62\\n\\n\\n\\n\\n7\\n\\nSouthampton\\n\\n38\\n18\\n6\\n14\\n54\\n33\\n21\\n60\\n\\n\\n\\n\\n8\\n\\nSwansea City\\n\\n38\\n16\\n8\\n14\\n46\\n49\\n-3\\n56\\n\\n\\n\\n\\n9\\n\\nStoke City\\n\\n38\\n15\\n9\\n14\\n48\\n45\\n3\\n54\\n\\n\\n\\n\\n10\\n\\nCrystal Palace\\n\\n38\\n13\\n9\\n16\\n47\\n51\\n-4\\n48\\n\\n\\n\\n\\n11\\n\\nEverton\\n\\n38\\n12\\n11\\n15\\n48\\n50\\n-2\\n47\\n\\n\\n\\n\\n12\\n\\nWest Ham United\\n\\n38\\n12\\n11\\n15\\n44\\n47\\n-3\\n47\\n\\n\\n\\n\\n13\\n\\nWest Bromwich Albion\\n\\n38\\n11\\n11\\n16\\n38\\n51\\n-13\\n44\\n\\n\\n\\n\\n14\\n\\nLeicester City\\n\\n38\\n11\\n8\\n19\\n46\\n55\\n-9\\n41\\n\\n\\n\\n\\n15\\n\\nNewcastle United\\n\\n38\\n10\\n9\\n19\\n40\\n63\\n-23\\n39\\n\\n\\n\\n\\n16\\n\\nSunderland\\n\\n38\\n7\\n17\\n14\\n31\\n53\\n-22\\n38\\n\\n\\n\\n\\n17\\n\\nAston Villa\\n\\n38\\n10\\n8\\n20\\n31\\n57\\n-26\\n38\\n\\n\\n\\n\\n18\\n\\nHull City\\n\\n38\\n8\\n11\\n19\\n33\\n51\\n-18\\n35\\n\\n\\n\\n\\n19\\n\\nBurnley\\n\\n38\\n7\\n12\\n19\\n28\\n53\\n-25\\n33\\n\\n\\n\\n\\n20\\n\\nQueens Park Rangers\\n\\n38\\n8\\n6\\n24\\n42\\n73\\n-31\\n30',\n",
       " 'Barclays Premier League 2015/16  \\n\\n\\n\\n\\n\\n\\n\\n\\n\\n\\n\\n\\n\\n\\n\\n#\\nTeam\\nPl\\nW\\nD\\nL\\nF\\nA\\nGD\\nPts\\nLast 6\\n\\n\\n\\n\\n1\\n\\nLeicester City\\n\\n38\\n23\\n12\\n3\\n68\\n36\\n32\\n81\\n\\n\\n\\n\\n2\\n\\nArsenal\\n\\n38\\n20\\n11\\n7\\n65\\n36\\n29\\n71\\n\\n\\n\\n\\n3\\n\\nTottenham Hotspur\\n\\n38\\n19\\n13\\n6\\n69\\n35\\n34\\n70\\n\\n\\n\\n\\n4\\n\\nManchester City\\n\\n38\\n19\\n9\\n10\\n71\\n41\\n30\\n66\\n\\n\\n\\n\\n5\\n\\nManchester United\\n\\n38\\n19\\n9\\n10\\n49\\n35\\n14\\n66\\n\\n\\n\\n\\n6\\n\\nSouthampton\\n\\n38\\n18\\n9\\n11\\n59\\n41\\n18\\n63\\n\\n\\n\\n\\n7\\n\\nWest Ham United\\n\\n38\\n16\\n14\\n8\\n65\\n51\\n14\\n62\\n\\n\\n\\n\\n8\\n\\nLiverpool\\n\\n38\\n16\\n12\\n10\\n63\\n50\\n13\\n60\\n\\n\\n\\n\\n9\\n\\nStoke City\\n\\n38\\n14\\n9\\n15\\n41\\n55\\n-14\\n51\\n\\n\\n\\n\\n10\\n\\nChelsea\\n\\n38\\n12\\n14\\n12\\n59\\n53\\n6\\n50\\n\\n\\n\\n\\n11\\n\\nEverton\\n\\n38\\n11\\n14\\n13\\n59\\n55\\n4\\n47\\n\\n\\n\\n\\n12\\n\\nSwansea City\\n\\n38\\n12\\n11\\n15\\n42\\n52\\n-10\\n47\\n\\n\\n\\n\\n13\\n\\nWatford\\n\\n38\\n12\\n9\\n17\\n40\\n50\\n-10\\n45\\n\\n\\n\\n\\n14\\n\\nWest Bromwich Albion\\n\\n38\\n10\\n13\\n15\\n34\\n48\\n-14\\n43\\n\\n\\n\\n\\n15\\n\\nCrystal Palace\\n\\n38\\n11\\n9\\n18\\n39\\n51\\n-12\\n42\\n\\n\\n\\n\\n16\\n\\nBournemouth\\n\\n38\\n11\\n9\\n18\\n45\\n67\\n-22\\n42\\n\\n\\n\\n\\n17\\n\\nSunderland\\n\\n38\\n9\\n12\\n17\\n48\\n62\\n-14\\n39\\n\\n\\n\\n\\n18\\n\\nNewcastle United\\n\\n38\\n9\\n10\\n19\\n44\\n65\\n-21\\n37\\n\\n\\n\\n\\n19\\n\\nNorwich City\\n\\n38\\n9\\n7\\n22\\n39\\n67\\n-28\\n34\\n\\n\\n\\n\\n20\\n\\nAston Villa\\n\\n38\\n3\\n8\\n27\\n27\\n76\\n-49\\n17',\n",
       " 'Premier League 2016/17  \\n\\n\\n\\n\\n\\n\\n\\n\\n\\n\\n\\n\\n\\n\\n\\n#\\nTeam\\nPl\\nW\\nD\\nL\\nF\\nA\\nGD\\nPts\\nLast 6\\n\\n\\n\\n\\n1\\n\\nChelsea\\n\\n38\\n30\\n3\\n5\\n85\\n33\\n52\\n93\\n\\n\\n\\n\\n2\\n\\nTottenham Hotspur\\n\\n38\\n26\\n8\\n4\\n86\\n26\\n60\\n86\\n\\n\\n\\n\\n3\\n\\nManchester City\\n\\n38\\n23\\n9\\n6\\n80\\n39\\n41\\n78\\n\\n\\n\\n\\n4\\n\\nLiverpool\\n\\n38\\n22\\n10\\n6\\n78\\n42\\n36\\n76\\n\\n\\n\\n\\n5\\n\\nArsenal\\n\\n38\\n23\\n6\\n9\\n77\\n44\\n33\\n75\\n\\n\\n\\n\\n6\\n\\nManchester United\\n\\n38\\n18\\n15\\n5\\n54\\n29\\n25\\n69\\n\\n\\n\\n\\n7\\n\\nEverton\\n\\n38\\n17\\n10\\n11\\n62\\n44\\n18\\n61\\n\\n\\n\\n\\n8\\n\\nSouthampton\\n\\n38\\n12\\n10\\n16\\n41\\n48\\n-7\\n46\\n\\n\\n\\n\\n9\\n\\nBournemouth\\n\\n38\\n12\\n10\\n16\\n55\\n67\\n-12\\n46\\n\\n\\n\\n\\n10\\n\\nWest Bromwich Albion\\n\\n38\\n12\\n9\\n17\\n43\\n51\\n-8\\n45\\n\\n\\n\\n\\n11\\n\\nWest Ham United\\n\\n38\\n12\\n9\\n17\\n47\\n64\\n-17\\n45\\n\\n\\n\\n\\n12\\n\\nLeicester City\\n\\n38\\n12\\n8\\n18\\n48\\n63\\n-15\\n44\\n\\n\\n\\n\\n13\\n\\nStoke City\\n\\n38\\n11\\n11\\n16\\n41\\n56\\n-15\\n44\\n\\n\\n\\n\\n14\\n\\nCrystal Palace\\n\\n38\\n12\\n5\\n21\\n50\\n63\\n-13\\n41\\n\\n\\n\\n\\n15\\n\\nSwansea City\\n\\n38\\n12\\n5\\n21\\n45\\n70\\n-25\\n41\\n\\n\\n\\n\\n16\\n\\nBurnley\\n\\n38\\n11\\n7\\n20\\n39\\n55\\n-16\\n40\\n\\n\\n\\n\\n17\\n\\nWatford\\n\\n38\\n11\\n7\\n20\\n40\\n68\\n-28\\n40\\n\\n\\n\\n\\n18\\n\\nHull City\\n\\n38\\n9\\n7\\n22\\n37\\n80\\n-43\\n34\\n\\n\\n\\n\\n19\\n\\nMiddlesbrough\\n\\n38\\n5\\n13\\n20\\n27\\n53\\n-26\\n28\\n\\n\\n\\n\\n20\\n\\nSunderland\\n\\n38\\n6\\n6\\n26\\n29\\n69\\n-40\\n24',\n",
       " 'Premier League 2017/18  \\n\\n\\n\\n\\n\\n\\n\\n\\n\\n\\n\\n\\n\\n\\n\\n#\\nTeam\\nPl\\nW\\nD\\nL\\nF\\nA\\nGD\\nPts\\nLast 6\\n\\n\\n\\n\\n1\\n\\nManchester City\\n\\n38\\n32\\n4\\n2\\n106\\n27\\n79\\n100\\n\\n\\n\\n\\n2\\n\\nManchester United\\n\\n38\\n25\\n6\\n7\\n68\\n28\\n40\\n81\\n\\n\\n\\n\\n3\\n\\nTottenham Hotspur\\n\\n38\\n23\\n8\\n7\\n74\\n36\\n38\\n77\\n\\n\\n\\n\\n4\\n\\nLiverpool\\n\\n38\\n21\\n12\\n5\\n84\\n38\\n46\\n75\\n\\n\\n\\n\\n5\\n\\nChelsea\\n\\n38\\n21\\n7\\n10\\n62\\n38\\n24\\n70\\n\\n\\n\\n\\n6\\n\\nArsenal\\n\\n38\\n19\\n6\\n13\\n74\\n51\\n23\\n63\\n\\n\\n\\n\\n7\\n\\nBurnley\\n\\n38\\n14\\n12\\n12\\n36\\n39\\n-3\\n54\\n\\n\\n\\n\\n8\\n\\nEverton\\n\\n38\\n13\\n10\\n15\\n44\\n58\\n-14\\n49\\n\\n\\n\\n\\n9\\n\\nLeicester City\\n\\n38\\n12\\n11\\n15\\n56\\n60\\n-4\\n47\\n\\n\\n\\n\\n10\\n\\nNewcastle United\\n\\n38\\n12\\n8\\n18\\n39\\n47\\n-8\\n44\\n\\n\\n\\n\\n11\\n\\nCrystal Palace\\n\\n38\\n11\\n11\\n16\\n45\\n55\\n-10\\n44\\n\\n\\n\\n\\n12\\n\\nBournemouth\\n\\n38\\n11\\n11\\n16\\n45\\n61\\n-16\\n44\\n\\n\\n\\n\\n13\\n\\nWest Ham United\\n\\n38\\n10\\n12\\n16\\n48\\n68\\n-20\\n42\\n\\n\\n\\n\\n14\\n\\nWatford\\n\\n38\\n11\\n8\\n19\\n44\\n64\\n-20\\n41\\n\\n\\n\\n\\n15\\n\\nBrighton and Hove Albion\\n\\n38\\n9\\n13\\n16\\n34\\n54\\n-20\\n40\\n\\n\\n\\n\\n16\\n\\nHuddersfield Town\\n\\n38\\n9\\n10\\n19\\n28\\n58\\n-30\\n37\\n\\n\\n\\n\\n17\\n\\nSouthampton\\n\\n38\\n7\\n15\\n16\\n37\\n56\\n-19\\n36\\n\\n\\n\\n\\n18\\n\\nSwansea City\\n\\n38\\n8\\n9\\n21\\n28\\n56\\n-28\\n33\\n\\n\\n\\n\\n19\\n\\nStoke City\\n\\n38\\n7\\n12\\n19\\n35\\n68\\n-33\\n33\\n\\n\\n\\n\\n20\\n\\nWest Bromwich Albion\\n\\n38\\n6\\n13\\n19\\n31\\n56\\n-25\\n31',\n",
       " 'Premier League 2018/19  \\n\\n\\n\\n\\n\\n\\n\\n\\n\\n\\n\\n\\n\\n\\n\\n#\\nTeam\\nPl\\nW\\nD\\nL\\nF\\nA\\nGD\\nPts\\nLast 6\\n\\n\\n\\n\\n1\\n\\nManchester City\\n\\n38\\n32\\n2\\n4\\n95\\n23\\n72\\n98\\n\\n\\n\\n\\n2\\n\\nLiverpool\\n\\n38\\n30\\n7\\n1\\n89\\n22\\n67\\n97\\n\\n\\n\\n\\n3\\n\\nChelsea\\n\\n38\\n21\\n9\\n8\\n63\\n39\\n24\\n72\\n\\n\\n\\n\\n4\\n\\nTottenham Hotspur\\n\\n38\\n23\\n2\\n13\\n67\\n39\\n28\\n71\\n\\n\\n\\n\\n5\\n\\nArsenal\\n\\n38\\n21\\n7\\n10\\n73\\n51\\n22\\n70\\n\\n\\n\\n\\n6\\n\\nManchester United\\n\\n38\\n19\\n9\\n10\\n65\\n54\\n11\\n66\\n\\n\\n\\n\\n7\\n\\nWolverhampton Wanderers\\n\\n38\\n16\\n9\\n13\\n47\\n46\\n1\\n57\\n\\n\\n\\n\\n8\\n\\nEverton\\n\\n38\\n15\\n9\\n14\\n54\\n46\\n8\\n54\\n\\n\\n\\n\\n9\\n\\nLeicester City\\n\\n38\\n15\\n7\\n16\\n51\\n48\\n3\\n52\\n\\n\\n\\n\\n10\\n\\nWest Ham United\\n\\n38\\n15\\n7\\n16\\n52\\n55\\n-3\\n52\\n\\n\\n\\n\\n11\\n\\nWatford\\n\\n38\\n14\\n8\\n16\\n52\\n59\\n-7\\n50\\n\\n\\n\\n\\n12\\n\\nCrystal Palace\\n\\n38\\n14\\n7\\n17\\n51\\n53\\n-2\\n49\\n\\n\\n\\n\\n13\\n\\nNewcastle United\\n\\n38\\n12\\n9\\n17\\n42\\n48\\n-6\\n45\\n\\n\\n\\n\\n14\\n\\nBournemouth\\n\\n38\\n13\\n6\\n19\\n56\\n70\\n-14\\n45\\n\\n\\n\\n\\n15\\n\\nBurnley\\n\\n38\\n11\\n7\\n20\\n45\\n68\\n-23\\n40\\n\\n\\n\\n\\n16\\n\\nSouthampton\\n\\n38\\n9\\n12\\n17\\n45\\n65\\n-20\\n39\\n\\n\\n\\n\\n17\\n\\nBrighton and Hove Albion\\n\\n38\\n9\\n9\\n20\\n35\\n60\\n-25\\n36\\n\\n\\n\\n\\n18\\n\\nCardiff City\\n\\n38\\n10\\n4\\n24\\n34\\n69\\n-35\\n34\\n\\n\\n\\n\\n19\\n\\nFulham\\n\\n38\\n7\\n5\\n26\\n34\\n81\\n-47\\n26\\n\\n\\n\\n\\n20\\n\\nHuddersfield Town\\n\\n38\\n3\\n7\\n28\\n22\\n76\\n-54\\n16',\n",
       " 'Premier League 2019/20  \\n\\n\\n\\n\\n\\n\\n\\n\\n\\n\\n\\n\\n\\n\\n\\n#\\nTeam\\nPl\\nW\\nD\\nL\\nF\\nA\\nGD\\nPts\\nLast 6\\n\\n\\n\\n\\n1\\n\\nLiverpool\\n\\n38\\n32\\n3\\n3\\n85\\n33\\n52\\n99\\n\\n\\n\\n\\n2\\n\\nManchester City\\n\\n38\\n26\\n3\\n9\\n102\\n35\\n67\\n81\\n\\n\\n\\n\\n3\\n\\nManchester United\\n\\n38\\n18\\n12\\n8\\n66\\n36\\n30\\n66\\n\\n\\n\\n\\n4\\n\\nChelsea\\n\\n38\\n20\\n6\\n12\\n69\\n54\\n15\\n66\\n\\n\\n\\n\\n5\\n\\nLeicester City\\n\\n38\\n18\\n8\\n12\\n67\\n41\\n26\\n62\\n\\n\\n\\n\\n6\\n\\nTottenham Hotspur\\n\\n38\\n16\\n11\\n11\\n61\\n47\\n14\\n59\\n\\n\\n\\n\\n7\\n\\nWolverhampton Wanderers\\n\\n38\\n15\\n14\\n9\\n51\\n40\\n11\\n59\\n\\n\\n\\n\\n8\\n\\nArsenal\\n\\n38\\n14\\n14\\n10\\n56\\n48\\n8\\n56\\n\\n\\n\\n\\n9\\n\\nSheffield United\\n\\n38\\n14\\n12\\n12\\n39\\n39\\n0\\n54\\n\\n\\n\\n\\n10\\n\\nBurnley\\n\\n38\\n15\\n9\\n14\\n43\\n50\\n-7\\n54\\n\\n\\n\\n\\n11\\n\\nSouthampton\\n\\n38\\n15\\n7\\n16\\n51\\n60\\n-9\\n52\\n\\n\\n\\n\\n12\\n\\nEverton\\n\\n38\\n13\\n10\\n15\\n44\\n56\\n-12\\n49\\n\\n\\n\\n\\n13\\n\\nNewcastle United\\n\\n38\\n11\\n11\\n16\\n38\\n58\\n-20\\n44\\n\\n\\n\\n\\n14\\n\\nCrystal Palace\\n\\n38\\n11\\n10\\n17\\n31\\n50\\n-19\\n43\\n\\n\\n\\n\\n15\\n\\nBrighton and Hove Albion\\n\\n38\\n9\\n14\\n15\\n39\\n54\\n-15\\n41\\n\\n\\n\\n\\n16\\n\\nWest Ham United\\n\\n38\\n10\\n9\\n19\\n49\\n62\\n-13\\n39\\n\\n\\n\\n\\n17\\n\\nAston Villa\\n\\n38\\n9\\n8\\n21\\n41\\n67\\n-26\\n35\\n\\n\\n\\n\\n18\\n\\nBournemouth\\n\\n38\\n9\\n7\\n22\\n40\\n65\\n-25\\n34\\n\\n\\n\\n\\n19\\n\\nWatford\\n\\n38\\n8\\n10\\n20\\n36\\n64\\n-28\\n34\\n\\n\\n\\n\\n20\\n\\nNorwich City\\n\\n38\\n5\\n6\\n27\\n26\\n75\\n-49\\n21',\n",
       " 'Premier League 2020/21  \\n\\n\\n\\n\\n\\n\\n\\n\\n\\n\\n\\n\\n\\n\\n\\n#\\nTeam\\nPl\\nW\\nD\\nL\\nF\\nA\\nGD\\nPts\\nLast 6\\n\\n\\n\\n\\n1\\n\\nManchester City\\n\\n38\\n27\\n5\\n6\\n83\\n32\\n51\\n86\\n\\n\\n\\n\\n2\\n\\nManchester United\\n\\n38\\n21\\n11\\n6\\n73\\n44\\n29\\n74\\n\\n\\n\\n\\n3\\n\\nLiverpool\\n\\n38\\n20\\n9\\n9\\n68\\n42\\n26\\n69\\n\\n\\n\\n\\n4\\n\\nChelsea\\n\\n38\\n19\\n10\\n9\\n58\\n36\\n22\\n67\\n\\n\\n\\n\\n5\\n\\nLeicester City\\n\\n38\\n20\\n6\\n12\\n68\\n50\\n18\\n66\\n\\n\\n\\n\\n6\\n\\nWest Ham United\\n\\n38\\n19\\n8\\n11\\n62\\n47\\n15\\n65\\n\\n\\n\\n\\n7\\n\\nTottenham Hotspur\\n\\n38\\n18\\n8\\n12\\n68\\n45\\n23\\n62\\n\\n\\n\\n\\n8\\n\\nArsenal\\n\\n38\\n18\\n7\\n13\\n55\\n39\\n16\\n61\\n\\n\\n\\n\\n9\\n\\nLeeds United\\n\\n38\\n18\\n5\\n15\\n62\\n54\\n8\\n59\\n\\n\\n\\n\\n10\\n\\nEverton\\n\\n38\\n17\\n8\\n13\\n47\\n48\\n-1\\n59\\n\\n\\n\\n\\n11\\n\\nAston Villa\\n\\n38\\n16\\n7\\n15\\n55\\n46\\n9\\n55\\n\\n\\n\\n\\n12\\n\\nNewcastle United\\n\\n38\\n12\\n9\\n17\\n46\\n62\\n-16\\n45\\n\\n\\n\\n\\n13\\n\\nWolverhampton Wanderers\\n\\n38\\n12\\n9\\n17\\n36\\n52\\n-16\\n45\\n\\n\\n\\n\\n14\\n\\nCrystal Palace\\n\\n38\\n12\\n8\\n18\\n41\\n66\\n-25\\n44\\n\\n\\n\\n\\n15\\n\\nSouthampton\\n\\n38\\n12\\n7\\n19\\n47\\n68\\n-21\\n43\\n\\n\\n\\n\\n16\\n\\nBrighton and Hove Albion\\n\\n38\\n9\\n14\\n15\\n40\\n46\\n-6\\n41\\n\\n\\n\\n\\n17\\n\\nBurnley\\n\\n38\\n10\\n9\\n19\\n33\\n55\\n-22\\n39\\n\\n\\n\\n\\n18\\n\\nFulham\\n\\n38\\n5\\n13\\n20\\n27\\n53\\n-26\\n28\\n\\n\\n\\n\\n19\\n\\nWest Bromwich Albion\\n\\n38\\n5\\n11\\n22\\n35\\n76\\n-41\\n26\\n\\n\\n\\n\\n20\\n\\nSheffield United\\n\\n38\\n7\\n2\\n29\\n20\\n63\\n-43\\n23']"
      ]
     },
     "execution_count": 114,
     "metadata": {},
     "output_type": "execute_result"
    }
   ],
   "source": [
    "donnee"
   ]
  },
  {
   "cell_type": "code",
   "execution_count": 153,
   "metadata": {},
   "outputs": [
    {
     "data": {
      "text/plain": [
       "['Barclays Premier League 2010/11',\n",
       " '',\n",
       " '',\n",
       " '',\n",
       " '',\n",
       " '',\n",
       " '# Team Pl W D L F A GD Pts Last 6',\n",
       " '  1  Manchester United  38 23 11 4 78 37 41 80',\n",
       " '  2  Chelsea  38 21 8 9 69 33 36 71',\n",
       " '  3  Manchester City  38 21 8 9 60 33 27 71',\n",
       " '  4  Arsenal  38 19 11 8 72 43 29 68',\n",
       " '  5  Tottenham Hotspur  38 16 14 8 55 46 9 62',\n",
       " '  6  Liverpool  38 17 7 14 59 44 15 58',\n",
       " '  7  Everton  38 13 15 10 51 45 6 54',\n",
       " '  8  Fulham  38 11 16 11 49 43 6 49',\n",
       " '  9  Aston Villa  38 12 12 14 48 59 -11 48',\n",
       " '  10  Sunderland  38 12 11 15 45 56 -11 47',\n",
       " '  11  West Bromwich Albion  38 12 11 15 56 71 -15 47',\n",
       " '  12  Newcastle United  38 11 13 14 56 57 -1 46',\n",
       " '  13  Stoke City  38 13 7 18 46 48 -2 46',\n",
       " '  14  Bolton Wanderers  38 12 10 16 52 56 -4 46',\n",
       " '  15  Blackburn Rovers  38 11 10 17 46 59 -13 43',\n",
       " '  16  Wigan Athletic  38 9 15 14 40 61 -21 42',\n",
       " '  17  Wolverhampton Wanderers  38 11 7 20 46 66 -20 40',\n",
       " '  18  Birmingham City  38 8 15 15 37 58 -21 39',\n",
       " '  19  Blackpool  38 10 9 19 55 78 -23 39',\n",
       " '  20  West Ham United  38 7 12 19 43 70 -27 33']"
      ]
     },
     "execution_count": 153,
     "metadata": {},
     "output_type": "execute_result"
    }
   ],
   "source": [
    "header = donnee[0]\n",
    "#header = header.split(',')\n",
    "header = header.replace('\\n',' ')\n",
    "header = header.split('   ')\n",
    "header\n",
    "#header = header[:14] + header[16:]\n",
    "#header = header[4:]\n",
    "#header = header[:]\n",
    "#data = []\n",
    "#fullData = []\n",
    "#for i in range(len(header)): \n",
    "#    if i%10 == 0 and i > 0:\n",
    "#        data.append(header[i])\n",
    "#        fullData.append(data)\n",
    "#        data = []\n",
    "#        continue\n",
    "#    else: \n",
    "#        data.append(header[i])\n",
    "#fullData"
   ]
  },
  {
   "cell_type": "code",
   "execution_count": 110,
   "metadata": {},
   "outputs": [],
   "source": [
    "for i in range(len(donnee)):\n",
    "    donnee = donnee[i].replace('\\n',' ')\n",
    "    donnee = donnee.split('   ')\n",
    "    data = donnee[6:][1:]\n",
    "    dataRes = []\n",
    "    for j in range(len(data)): \n",
    "        dataRes.append(data[j].split(' '))"
   ]
  },
  {
   "cell_type": "code",
   "execution_count": 111,
   "metadata": {},
   "outputs": [
    {
     "data": {
      "text/plain": [
       "[]"
      ]
     },
     "execution_count": 111,
     "metadata": {},
     "output_type": "execute_result"
    }
   ],
   "source": [
    "dataRes"
   ]
  }
 ],
 "metadata": {
  "kernelspec": {
   "display_name": "Python 3",
   "language": "python",
   "name": "python3"
  },
  "language_info": {
   "codemirror_mode": {
    "name": "ipython",
    "version": 3
   },
   "file_extension": ".py",
   "mimetype": "text/x-python",
   "name": "python",
   "nbconvert_exporter": "python",
   "pygments_lexer": "ipython3",
   "version": "3.8.3"
  }
 },
 "nbformat": 4,
 "nbformat_minor": 4
}
