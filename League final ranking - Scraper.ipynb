{
 "cells": [
  {
   "cell_type": "code",
   "execution_count": 29,
   "metadata": {},
   "outputs": [],
   "source": [
    "import requests\n",
    "from bs4 import BeautifulSoup as bs \n",
    "import pandas as pd \n",
    "import numpy as np"
   ]
  },
  {
   "cell_type": "code",
   "execution_count": 30,
   "metadata": {},
   "outputs": [],
   "source": [
    "#get the data from tables on the page\n",
    "yrs = []\n",
    "for i in range(2010,2021): \n",
    "    yrs.append(i)\n",
    "donnee = []\n",
    "for i in yrs: \n",
    "    url = 'https://www.skysports.com/premier-league-table/'+str(i)\n",
    "    page = requests.get(url)\n",
    "    data = page.content\n",
    "    soup = bs(data, 'html.parser')\n",
    "    for element in soup.select('table'):\n",
    "        donnee.append(element.text.strip())"
   ]
  },
  {
   "cell_type": "code",
   "execution_count": 31,
   "metadata": {},
   "outputs": [],
   "source": [
    "header = donnee[0]\n",
    "header = header.replace('\\n',' ')\n",
    "header = header.split('   ')\n",
    "szn = []\n",
    "for i in range(len(donnee)): \n",
    "    header = donnee[i]\n",
    "    header = header.replace('\\n',' ')\n",
    "    header = header.split('   ')\n",
    "    if i > 5: \n",
    "        szn.append(header[0][15:])\n",
    "    else: \n",
    "        szn.append(header[0][24:])"
   ]
  },
  {
   "cell_type": "code",
   "execution_count": 32,
   "metadata": {},
   "outputs": [],
   "source": [
    "cleanDataArr = []\n",
    "for i in range(len(donnee)): \n",
    "    cleanData = donnee[i].replace('\\n',' ')\n",
    "    cleanData = cleanData.split('   ')\n",
    "    cleanDataArr.append(cleanData)"
   ]
  },
  {
   "cell_type": "code",
   "execution_count": 33,
   "metadata": {},
   "outputs": [],
   "source": [
    "#don = cleanDataArr[0][7:][19]\n",
    "finalStandings = []\n",
    "for n in range(len(cleanDataArr)): \n",
    "    for m in range(20):\n",
    "        don = cleanDataArr[n][7:][m]\n",
    "        j = 0\n",
    "        i = 0\n",
    "        k = 0\n",
    "        don = don.split(' ')\n",
    "        #for i in range(len(don)): \n",
    "        don = ' '.join(don).split()\n",
    "        testData = []\n",
    "        alpha = []\n",
    "        while i < len(don):\n",
    "            if don[i].isalpha():\n",
    "                #print(don[i])\n",
    "                alpha.append(don[i])\n",
    "                testData.append(don[i])\n",
    "                i+=1\n",
    "            else: \n",
    "                testData.append(don[i])\n",
    "                i+=1         \n",
    "\n",
    "        teamname = ''.join(alpha)    \n",
    "\n",
    "        dataRes = list(filter(lambda item: item.isalpha()==False, testData))\n",
    "        dataRes.insert(1, teamname)\n",
    "        dataRes.insert(0,szn[n])\n",
    "        finalStandings.append(dataRes)\n"
   ]
  },
  {
   "cell_type": "code",
   "execution_count": 34,
   "metadata": {},
   "outputs": [],
   "source": [
    "#Create\n",
    "data = []\n",
    "for i in range(len(cleanDataArr)): \n",
    "    data.append(cleanDataArr[i][6:][0][:23])  \n",
    "headers = data[0].split(' ')\n",
    "headers = headers[:-1]\n",
    "headers.insert(0,'Season')\n",
    "headers.insert(11, 'Pts')"
   ]
  },
  {
   "cell_type": "code",
   "execution_count": 35,
   "metadata": {},
   "outputs": [],
   "source": [
    "df = pd.DataFrame(finalStandings, columns=['Season','Standings','Team',\\\n",
    "                                           'Played','Wins','Draw','Lost',\\\n",
    "                                           'GoalsFor','GoalsAgainst','GoalDifference','Points'])"
   ]
  },
  {
   "cell_type": "code",
   "execution_count": 36,
   "metadata": {},
   "outputs": [],
   "source": [
    "df['Season'] = df['Season'].apply(lambda x: x[2:])"
   ]
  },
  {
   "cell_type": "code",
   "execution_count": 37,
   "metadata": {},
   "outputs": [
    {
     "data": {
      "text/plain": [
       "array(['ManchesterUnited', 'Chelsea', 'ManchesterCity', 'Arsenal',\n",
       "       'TottenhamHotspur', 'Liverpool', 'Everton', 'Fulham', 'AstonVilla',\n",
       "       'Sunderland', 'WestBromwichAlbion', 'NewcastleUnited', 'StokeCity',\n",
       "       'BoltonWanderers', 'BlackburnRovers', 'WiganAthletic',\n",
       "       'WolverhamptonWanderers', 'BirminghamCity', 'Blackpool',\n",
       "       'WestHamUnited', 'SwanseaCity', 'NorwichCity', 'QueensParkRangers',\n",
       "       'Southampton', 'Reading', 'CrystalPalace', 'HullCity',\n",
       "       'CardiffCity', 'LeicesterCity', 'Burnley', 'Watford',\n",
       "       'Bournemouth', 'Middlesbrough', 'BrightonandHoveAlbion',\n",
       "       'HuddersfieldTown', 'SheffieldUnited', 'LeedsUnited'], dtype=object)"
      ]
     },
     "execution_count": 37,
     "metadata": {},
     "output_type": "execute_result"
    }
   ],
   "source": [
    "df['Team'].unique()"
   ]
  },
  {
   "cell_type": "code",
   "execution_count": 38,
   "metadata": {},
   "outputs": [],
   "source": [
    "#df.to_csv('League Standings.csv')"
   ]
  }
 ],
 "metadata": {
  "kernelspec": {
   "display_name": "Python 3",
   "language": "python",
   "name": "python3"
  },
  "language_info": {
   "codemirror_mode": {
    "name": "ipython",
    "version": 3
   },
   "file_extension": ".py",
   "mimetype": "text/x-python",
   "name": "python",
   "nbconvert_exporter": "python",
   "pygments_lexer": "ipython3",
   "version": "3.8.3"
  }
 },
 "nbformat": 4,
 "nbformat_minor": 4
}
