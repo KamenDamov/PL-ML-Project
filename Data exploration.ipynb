{
 "cells": [
  {
   "cell_type": "code",
   "execution_count": 5,
   "metadata": {},
   "outputs": [],
   "source": [
    "import numpy as np \n",
    "import pandas as pd\n",
    "import glob\n",
    "import os"
   ]
  },
  {
   "cell_type": "code",
   "execution_count": 15,
   "metadata": {},
   "outputs": [],
   "source": [
    "#Import Data\n",
    "df = pd.concat(map(pd.read_csv, glob.glob('Data Folder/*.csv')))"
   ]
  },
  {
   "cell_type": "code",
   "execution_count": 43,
   "metadata": {},
   "outputs": [
    {
     "data": {
      "text/plain": [
       "10693"
      ]
     },
     "execution_count": 43,
     "metadata": {},
     "output_type": "execute_result"
    }
   ],
   "source": [
    "len(df)"
   ]
  },
  {
   "cell_type": "code",
   "execution_count": 44,
   "metadata": {},
   "outputs": [
    {
     "data": {
      "text/plain": [
       "10693"
      ]
     },
     "execution_count": 44,
     "metadata": {},
     "output_type": "execute_result"
    }
   ],
   "source": [
    "dfNoDupes = df.drop_duplicates(keep = False)\n",
    "len(dfNoDupes)"
   ]
  },
  {
   "cell_type": "code",
   "execution_count": 26,
   "metadata": {},
   "outputs": [
    {
     "data": {
      "text/plain": [
       "id                   int64\n",
       "firstname           object\n",
       "lastname            object\n",
       "age                float64\n",
       "nationality         object\n",
       "height              object\n",
       "weight              object\n",
       "injured               bool\n",
       "teamID               int64\n",
       "teamname            object\n",
       "appearences        float64\n",
       "lineups            float64\n",
       "minutes            float64\n",
       "position            object\n",
       "rating             float64\n",
       "captain               bool\n",
       "subIn              float64\n",
       "subOut             float64\n",
       "bench              float64\n",
       "totalShots         float64\n",
       "shotsOn            float64\n",
       "totalGoals         float64\n",
       "goalsConceded      float64\n",
       "goalAssists        float64\n",
       "goalSaves          float64\n",
       "totalPasses        float64\n",
       "keyPasses          float64\n",
       "passAccuracy       float64\n",
       "totalTackles       float64\n",
       "blocks             float64\n",
       "interceptions      float64\n",
       "duelsTotal         float64\n",
       "duelsWon           float64\n",
       "dribbleAttempts    float64\n",
       "dribblesSuccess    float64\n",
       "dribblesPast       float64\n",
       "foulsDrawn         float64\n",
       "foulsCommitted     float64\n",
       "cardsYel           float64\n",
       "cardsYelRed        float64\n",
       "cardsRed           float64\n",
       "penaltyWon         float64\n",
       "penaltyCommited    float64\n",
       "penaltyScored      float64\n",
       "penaltyMissed      float64\n",
       "penaltySaved       float64\n",
       "season              object\n",
       "dtype: object"
      ]
     },
     "execution_count": 26,
     "metadata": {},
     "output_type": "execute_result"
    }
   ],
   "source": [
    "#check the data types\n",
    "df.dtypes"
   ]
  },
  {
   "cell_type": "code",
   "execution_count": 37,
   "metadata": {},
   "outputs": [],
   "source": []
  },
  {
   "cell_type": "code",
   "execution_count": null,
   "metadata": {},
   "outputs": [],
   "source": []
  }
 ],
 "metadata": {
  "kernelspec": {
   "display_name": "Python 3",
   "language": "python",
   "name": "python3"
  },
  "language_info": {
   "codemirror_mode": {
    "name": "ipython",
    "version": 3
   },
   "file_extension": ".py",
   "mimetype": "text/x-python",
   "name": "python",
   "nbconvert_exporter": "python",
   "pygments_lexer": "ipython3",
   "version": "3.8.3"
  }
 },
 "nbformat": 4,
 "nbformat_minor": 4
}
