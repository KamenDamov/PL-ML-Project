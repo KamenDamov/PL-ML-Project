{
 "cells": [
  {
   "cell_type": "code",
   "execution_count": 57,
   "metadata": {},
   "outputs": [],
   "source": [
    "#Let's scrape some data to work with\n",
    "import json\n",
    "import requests\n",
    "from bs4 import BeautifulSoup\n",
    "import numpy as np\n",
    "import pandas as pd\n",
    "from selenium import webdriver\n",
    "from selenium.webdriver.firefox.options import Options as FirefoxOptions"
   ]
  },
  {
   "cell_type": "code",
   "execution_count": 67,
   "metadata": {},
   "outputs": [
    {
     "ename": "SyntaxError",
     "evalue": "(unicode error) 'unicodeescape' codec can't decode bytes in position 2-3: truncated \\UXXXXXXXX escape (<ipython-input-67-69c8b150fbe4>, line 1)",
     "output_type": "error",
     "traceback": [
      "\u001b[1;36m  File \u001b[1;32m\"<ipython-input-67-69c8b150fbe4>\"\u001b[1;36m, line \u001b[1;32m1\u001b[0m\n\u001b[1;33m    driver = webdriver.Firefox(executable_path='C:\\Users\\Kamen\\Downloads\\geckodriver-v0.30.0-win64')\u001b[0m\n\u001b[1;37m                                               ^\u001b[0m\n\u001b[1;31mSyntaxError\u001b[0m\u001b[1;31m:\u001b[0m (unicode error) 'unicodeescape' codec can't decode bytes in position 2-3: truncated \\UXXXXXXXX escape\n"
     ]
    }
   ],
   "source": [
    "driver = webdriver.Firefox(executable_path='C:\\Users\\Kamen\\Downloads\\geckodriver-v0.30.0-win64')"
   ]
  },
  {
   "cell_type": "code",
   "execution_count": 48,
   "metadata": {},
   "outputs": [],
   "source": [
    "filter_year = ['418','363','274','210','79','54','42','27','22','21',\\\n",
    "             '20','19','18','17','16','15','10','9','8','7','6','5',\\\n",
    "             '4','3','2','1']\n",
    "\n",
    "filter_cat = ['goals','goal_assists','clean_sheet','appearances',\\\n",
    "              'mins_played','yellow_card','red_card','total_pass',\\\n",
    "              'touches','total_scoring_att','hit_woodwork','big_chance_missed',\\\n",
    "              'total_offside','total_tackle','fouls','dispossessed','own_goals',\\\n",
    "              'total_clearance','clearance_off_line','saves','penalty_save','total_high_claim',\\\n",
    "              'punches']\n",
    "\n",
    "#LE WEB CRAWLEURE\n",
    "all_td_tags=[]\n",
    "#First loop to iterate through the data categories \n",
    "for fil_y in filter_year: \n",
    "    #loop to get data for all years in a specific category\n",
    "    for fil_cat in filter_cat:\n",
    "        page = requests.get('https://www.premierleague.com/stats/top/players/'+fil_cat, params={'se': fil_y},\\\n",
    "                            timeout=20)\n",
    "        soup = BeautifulSoup(page.content, 'html.parser')\n",
    "        #print(page.url)\n",
    "        #Get the data\n",
    "        for element in soup.select('td'):\n",
    "            all_td_tags.append(element.text.strip())\n",
    "            if element.text.strip() == '':\n",
    "                all_td_tags.append('year:' + fil_y + ' cat:' + fil_cat)\n",
    "                \n",
    "#all_td_tags"
   ]
  },
  {
   "cell_type": "code",
   "execution_count": 55,
   "metadata": {},
   "outputs": [
    {
     "name": "stdout",
     "output_type": "stream",
     "text": [
      "https://www.premierleague.com/stats/top/players/goal_assist\n"
     ]
    },
    {
     "data": {
      "text/plain": [
       "['1',\n",
       " 'Ryan Giggs',\n",
       " '-',\n",
       " 'Wales',\n",
       " '162',\n",
       " '',\n",
       " '2',\n",
       " 'Cesc Fàbregas',\n",
       " '-',\n",
       " 'Spain',\n",
       " '111',\n",
       " '',\n",
       " '3',\n",
       " 'Wayne Rooney',\n",
       " '-',\n",
       " 'England',\n",
       " '103',\n",
       " '',\n",
       " '4',\n",
       " 'Frank Lampard',\n",
       " '-',\n",
       " 'England',\n",
       " '102',\n",
       " '',\n",
       " '5',\n",
       " 'Dennis Bergkamp',\n",
       " '-',\n",
       " 'Netherlands',\n",
       " '94',\n",
       " '',\n",
       " '6',\n",
       " 'David Silva',\n",
       " '-',\n",
       " 'Spain',\n",
       " '93',\n",
       " '',\n",
       " '7',\n",
       " 'Steven Gerrard',\n",
       " '-',\n",
       " 'England',\n",
       " '92',\n",
       " '',\n",
       " '8',\n",
       " 'James Milner',\n",
       " 'Liverpool',\n",
       " 'England',\n",
       " '86',\n",
       " '',\n",
       " '9',\n",
       " 'Kevin De Bruyne',\n",
       " 'Manchester City',\n",
       " 'Belgium',\n",
       " '81',\n",
       " '',\n",
       " '10',\n",
       " 'David Beckham',\n",
       " '-',\n",
       " 'England',\n",
       " '80',\n",
       " '',\n",
       " '11',\n",
       " 'Teddy Sheringham',\n",
       " '-',\n",
       " 'England',\n",
       " '76',\n",
       " '',\n",
       " '12',\n",
       " 'Thierry Henry',\n",
       " '-',\n",
       " 'France',\n",
       " '74',\n",
       " '',\n",
       " '13',\n",
       " 'Andrew Cole',\n",
       " '-',\n",
       " 'England',\n",
       " '73',\n",
       " '',\n",
       " '14',\n",
       " 'Ashley Young',\n",
       " 'Aston Villa',\n",
       " 'England',\n",
       " '71',\n",
       " '',\n",
       " '15',\n",
       " 'Darren Anderton',\n",
       " '-',\n",
       " 'England',\n",
       " '68',\n",
       " '',\n",
       " '16',\n",
       " 'Gareth Barry',\n",
       " '-',\n",
       " 'England',\n",
       " '64',\n",
       " '',\n",
       " '16',\n",
       " 'Alan Shearer',\n",
       " '-',\n",
       " 'England',\n",
       " '64',\n",
       " '',\n",
       " '18',\n",
       " 'Christian Eriksen',\n",
       " 'Brentford',\n",
       " 'Denmark',\n",
       " '63',\n",
       " '',\n",
       " '18',\n",
       " 'Matthew Le Tissier',\n",
       " '-',\n",
       " 'England',\n",
       " '63',\n",
       " '',\n",
       " '20',\n",
       " 'Nolberto Solano',\n",
       " '-',\n",
       " 'Peru',\n",
       " '62',\n",
       " '']"
      ]
     },
     "execution_count": 55,
     "metadata": {},
     "output_type": "execute_result"
    }
   ],
   "source": [
    "#Let's test\n",
    "url='https://www.premierleague.com/stats/top/players/goal_assist'\n",
    "test = requests.get(url)\n",
    "soup = BeautifulSoup(test.content, 'html.parser')\n",
    "print(test.url)\n",
    "testeur = []\n",
    "\n",
    "for element in soup.select('td'):\n",
    "    testeur.append(element.text.strip())\n",
    "    #if element.text.strip() == '':\n",
    "    #    testeur.append('year:' + fil_y + ' cat:' + fil_cat)\n",
    "testeur"
   ]
  },
  {
   "cell_type": "code",
   "execution_count": 51,
   "metadata": {},
   "outputs": [
    {
     "data": {
      "text/plain": [
       "[]"
      ]
     },
     "execution_count": 51,
     "metadata": {},
     "output_type": "execute_result"
    }
   ],
   "source": [
    "all_td_tags[300:5000]"
   ]
  },
  {
   "cell_type": "code",
   "execution_count": 4,
   "metadata": {},
   "outputs": [
    {
     "data": {
      "text/plain": [
       "'\\n1\\n\\n\\nJoe Hart\\n\\n\\n      -\\n    \\n\\n\\n\\nEngland\\n\\n\\n269\\n\\xa0\\n'"
      ]
     },
     "execution_count": 4,
     "metadata": {},
     "output_type": "execute_result"
    }
   ],
   "source": [
    "#Let's select the first tr\n",
    "first_tr = soup.select('tr')[1].text\n",
    "first_tr"
   ]
  },
  {
   "cell_type": "code",
   "execution_count": 5,
   "metadata": {},
   "outputs": [],
   "source": [
    "#Great! Now let's get all the tr\n",
    "#all_tr_tags = []\n",
    "#for element in soup.select('td'):\n",
    "#    all_tr_tags.append(element.text.strip())\n",
    " #   if element.text.strip() == '':\n",
    "  #      all_tr_tags.append('AllTime')"
   ]
  },
  {
   "cell_type": "code",
   "execution_count": 6,
   "metadata": {},
   "outputs": [],
   "source": [
    "#all_tr_tags"
   ]
  },
  {
   "cell_type": "code",
   "execution_count": 7,
   "metadata": {},
   "outputs": [],
   "source": [
    "#TODO \n",
    "#1) Create a spider\n",
    "#2) Extract data for all time (all metrics)"
   ]
  },
  {
   "cell_type": "code",
   "execution_count": null,
   "metadata": {},
   "outputs": [],
   "source": []
  }
 ],
 "metadata": {
  "kernelspec": {
   "display_name": "Python 3",
   "language": "python",
   "name": "python3"
  },
  "language_info": {
   "codemirror_mode": {
    "name": "ipython",
    "version": 3
   },
   "file_extension": ".py",
   "mimetype": "text/x-python",
   "name": "python",
   "nbconvert_exporter": "python",
   "pygments_lexer": "ipython3",
   "version": "3.8.3"
  }
 },
 "nbformat": 4,
 "nbformat_minor": 4
}
